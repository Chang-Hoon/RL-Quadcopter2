{
 "cells": [
  {
   "cell_type": "markdown",
   "metadata": {},
   "source": [
    "# Project: Train a Quadcopter How to Fly\n",
    "\n",
    "Design an agent to fly a quadcopter, and then train it using a reinforcement learning algorithm of your choice! \n",
    "\n",
    "Try to apply the techniques you have learnt, but also feel free to come up with innovative ideas and test them."
   ]
  },
  {
   "cell_type": "markdown",
   "metadata": {},
   "source": [
    "## Instructions\n",
    "\n",
    "Take a look at the files in the directory to better understand the structure of the project. \n",
    "\n",
    "- `task.py`: Define your task (environment) in this file.\n",
    "- `agents/`: Folder containing reinforcement learning agents.\n",
    "    - `policy_search.py`: A sample agent has been provided here.\n",
    "    - `agent.py`: Develop your agent here.\n",
    "- `physics_sim.py`: This file contains the simulator for the quadcopter.  **DO NOT MODIFY THIS FILE**.\n",
    "\n",
    "For this project, you will define your own task in `task.py`.  Although we have provided a example task to get you started, you are encouraged to change it.  Later in this notebook, you will learn more about how to amend this file.\n",
    "\n",
    "You will also design a reinforcement learning agent in `agent.py` to complete your chosen task.  \n",
    "\n",
    "You are welcome to create any additional files to help you to organize your code.  For instance, you may find it useful to define a `model.py` file defining any needed neural network architectures.\n",
    "\n",
    "## Controlling the Quadcopter\n",
    "\n",
    "We provide a sample agent in the code cell below to show you how to use the sim to control the quadcopter.  This agent is even simpler than the sample agent that you'll examine (in `agents/policy_search.py`) later in this notebook!\n",
    "\n",
    "The agent controls the quadcopter by setting the revolutions per second on each of its four rotors.  The provided agent in the `Basic_Agent` class below always selects a random action for each of the four rotors.  These four speeds are returned by the `act` method as a list of four floating-point numbers.  \n",
    "\n",
    "For this project, the agent that you will implement in `agents/agent.py` will have a far more intelligent method for selecting actions!"
   ]
  },
  {
   "cell_type": "code",
   "execution_count": 28,
   "metadata": {},
   "outputs": [],
   "source": [
    "import random\n",
    "\n",
    "class Basic_Agent():\n",
    "    def __init__(self, task):\n",
    "        self.task = task\n",
    "    \n",
    "    def act(self):\n",
    "        new_thrust = random.gauss(450., 25.)\n",
    "        return [new_thrust + random.gauss(0., 1.) for x in range(4)]"
   ]
  },
  {
   "cell_type": "markdown",
   "metadata": {},
   "source": [
    "Run the code cell below to have the agent select actions to control the quadcopter.  \n",
    "\n",
    "Feel free to change the provided values of `runtime`, `init_pose`, `init_velocities`, and `init_angle_velocities` below to change the starting conditions of the quadcopter.\n",
    "\n",
    "The `labels` list below annotates statistics that are saved while running the simulation.  All of this information is saved in a text file `data.txt` and stored in the dictionary `results`.  "
   ]
  },
  {
   "cell_type": "code",
   "execution_count": 29,
   "metadata": {},
   "outputs": [
    {
     "name": "stdout",
     "output_type": "stream",
     "text": [
      "The autoreload extension is already loaded. To reload it, use:\n",
      "  %reload_ext autoreload\n"
     ]
    }
   ],
   "source": [
    "%load_ext autoreload\n",
    "%autoreload 2\n",
    "\n",
    "import csv\n",
    "import numpy as np\n",
    "from task import Task\n",
    "\n",
    "# Modify the values below to give the quadcopter a different starting position.\n",
    "runtime = 5.                                     # time limit of the episode\n",
    "init_pose = np.array([0., 0., 10., 0., 0., 0.])  # initial pose\n",
    "init_velocities = np.array([0., 0., 0.])         # initial velocities\n",
    "init_angle_velocities = np.array([0., 0., 0.])   # initial angle velocities\n",
    "file_output = 'data.txt'                         # file name for saved results\n",
    "\n",
    "# Setup\n",
    "task = Task(init_pose, init_velocities, init_angle_velocities, runtime)\n",
    "agent = Basic_Agent(task)\n",
    "done = False\n",
    "labels = ['time', 'x', 'y', 'z', 'phi', 'theta', 'psi', 'x_velocity',\n",
    "          'y_velocity', 'z_velocity', 'phi_velocity', 'theta_velocity',\n",
    "          'psi_velocity', 'rotor_speed1', 'rotor_speed2', 'rotor_speed3', 'rotor_speed4']\n",
    "results = {x : [] for x in labels}\n",
    "\n",
    "# Run the simulation, and save the results.\n",
    "with open(file_output, 'w') as csvfile:\n",
    "    writer = csv.writer(csvfile)\n",
    "    writer.writerow(labels)\n",
    "    while True:\n",
    "        rotor_speeds = agent.act()\n",
    "        _, _, done = task.step(rotor_speeds)\n",
    "        to_write = [task.sim.time] + list(task.sim.pose) + list(task.sim.v) + list(task.sim.angular_v) + list(rotor_speeds)\n",
    "        for ii in range(len(labels)):\n",
    "            results[labels[ii]].append(to_write[ii])\n",
    "        writer.writerow(to_write)\n",
    "        if done:\n",
    "            break"
   ]
  },
  {
   "cell_type": "code",
   "execution_count": 30,
   "metadata": {},
   "outputs": [
    {
     "data": {
      "text/plain": [
       "300.0"
      ]
     },
     "execution_count": 30,
     "metadata": {},
     "output_type": "execute_result"
    }
   ],
   "source": [
    "max_z_distance = task.sim.upper_bounds[2] - task.sim.lower_bounds[2]\n",
    "max_z_distance"
   ]
  },
  {
   "cell_type": "code",
   "execution_count": 31,
   "metadata": {},
   "outputs": [
    {
     "data": {
      "text/plain": [
       "30.790214846227496"
      ]
     },
     "execution_count": 31,
     "metadata": {},
     "output_type": "execute_result"
    }
   ],
   "source": [
    "task.sim.pose[2]"
   ]
  },
  {
   "cell_type": "code",
   "execution_count": 32,
   "metadata": {},
   "outputs": [
    {
     "data": {
      "text/plain": [
       "20.790214846227496"
      ]
     },
     "execution_count": 32,
     "metadata": {},
     "output_type": "execute_result"
    }
   ],
   "source": [
    "target_z = 10.0\n",
    "distance = task.sim.pose[2] - target_z\n",
    "distance"
   ]
  },
  {
   "cell_type": "code",
   "execution_count": 33,
   "metadata": {},
   "outputs": [
    {
     "data": {
      "text/plain": [
       "0.069300716154091654"
      ]
     },
     "execution_count": 33,
     "metadata": {},
     "output_type": "execute_result"
    }
   ],
   "source": [
    "distance / max_z_distance"
   ]
  },
  {
   "cell_type": "code",
   "execution_count": 34,
   "metadata": {},
   "outputs": [
    {
     "data": {
      "text/plain": [
       "0.86139856769181666"
      ]
     },
     "execution_count": 34,
     "metadata": {},
     "output_type": "execute_result"
    }
   ],
   "source": [
    "1.0 - 2 * (distance / max_z_distance)"
   ]
  },
  {
   "cell_type": "markdown",
   "metadata": {},
   "source": [
    "Run the code cell below to visualize how the position of the quadcopter evolved during the simulation."
   ]
  },
  {
   "cell_type": "code",
   "execution_count": 4,
   "metadata": {},
   "outputs": [
    {
     "data": {
      "image/png": "[encoded data removed]",
      "text/plain": [
       "<matplotlib.figure.Figure at 0x23696eb9b38>"
      ]
     },
     "metadata": {},
     "output_type": "display_data"
    }
   ],
   "source": [
    "import matplotlib.pyplot as plt\n",
    "%matplotlib inline\n",
    "\n",
    "plt.plot(results['time'], results['x'], label='x')\n",
    "plt.plot(results['time'], results['y'], label='y')\n",
    "plt.plot(results['time'], results['z'], label='z')\n",
    "plt.legend()\n",
    "_ = plt.ylim()"
   ]
  },
  {
   "cell_type": "markdown",
   "metadata": {},
   "source": [
    "The next code cell visualizes the velocity of the quadcopter."
   ]
  },
  {
   "cell_type": "code",
   "execution_count": 4,
   "metadata": {},
   "outputs": [
    {
     "data": {
      "image/png": "[encoded data removed]",
      "text/plain": [
       "<matplotlib.figure.Figure at 0x7f8068249a58>"
      ]
     },
     "metadata": {},
     "output_type": "display_data"
    }
   ],
   "source": [
    "plt.plot(results['time'], results['x_velocity'], label='x_hat')\n",
    "plt.plot(results['time'], results['y_velocity'], label='y_hat')\n",
    "plt.plot(results['time'], results['z_velocity'], label='z_hat')\n",
    "plt.legend()\n",
    "_ = plt.ylim()"
   ]
  },
  {
   "cell_type": "markdown",
   "metadata": {},
   "source": [
    "Next, you can plot the Euler angles (the rotation of the quadcopter over the $x$-, $y$-, and $z$-axes),"
   ]
  },
  {
   "cell_type": "code",
   "execution_count": 5,
   "metadata": {},
   "outputs": [
    {
     "data": {
      "image/png": "[encoded data removed]",
      "text/plain": [
       "<matplotlib.figure.Figure at 0x7f8068249f60>"
      ]
     },
     "metadata": {},
     "output_type": "display_data"
    }
   ],
   "source": [
    "plt.plot(results['time'], results['phi'], label='phi')\n",
    "plt.plot(results['time'], results['theta'], label='theta')\n",
    "plt.plot(results['time'], results['psi'], label='psi')\n",
    "plt.legend()\n",
    "_ = plt.ylim()"
   ]
  },
  {
   "cell_type": "markdown",
   "metadata": {},
   "source": [
    "before plotting the velocities (in radians per second) corresponding to each of the Euler angles."
   ]
  },
  {
   "cell_type": "code",
   "execution_count": 6,
   "metadata": {},
   "outputs": [
    {
     "data": {
      "image/png": "[encoded data removed]",
      "text/plain": [
       "<matplotlib.figure.Figure at 0x7f8068249898>"
      ]
     },
     "metadata": {},
     "output_type": "display_data"
    }
   ],
   "source": [
    "plt.plot(results['time'], results['phi_velocity'], label='phi_velocity')\n",
    "plt.plot(results['time'], results['theta_velocity'], label='theta_velocity')\n",
    "plt.plot(results['time'], results['psi_velocity'], label='psi_velocity')\n",
    "plt.legend()\n",
    "_ = plt.ylim()"
   ]
  },
  {
   "cell_type": "markdown",
   "metadata": {},
   "source": [
    "Finally, you can use the code cell below to print the agent's choice of actions.  "
   ]
  },
  {
   "cell_type": "code",
   "execution_count": 7,
   "metadata": {},
   "outputs": [
    {
     "data": {
      "image/png": "[encoded data removed]",
      "text/plain": [
       "<matplotlib.figure.Figure at 0x7f8049a93550>"
      ]
     },
     "metadata": {},
     "output_type": "display_data"
    }
   ],
   "source": [
    "plt.plot(results['time'], results['rotor_speed1'], label='Rotor 1 revolutions / second')\n",
    "plt.plot(results['time'], results['rotor_speed2'], label='Rotor 2 revolutions / second')\n",
    "plt.plot(results['time'], results['rotor_speed3'], label='Rotor 3 revolutions / second')\n",
    "plt.plot(results['time'], results['rotor_speed4'], label='Rotor 4 revolutions / second')\n",
    "plt.legend()\n",
    "_ = plt.ylim()"
   ]
  },
  {
   "cell_type": "markdown",
   "metadata": {},
   "source": [
    "When specifying a task, you will derive the environment state from the simulator.  Run the code cell below to print the values of the following variables at the end of the simulation:\n",
    "- `task.sim.pose` (the position of the quadcopter in ($x,y,z$) dimensions and the Euler angles),\n",
    "- `task.sim.v` (the velocity of the quadcopter in ($x,y,z$) dimensions), and\n",
    "- `task.sim.angular_v` (radians/second for each of the three Euler angles)."
   ]
  },
  {
   "cell_type": "code",
   "execution_count": 8,
   "metadata": {},
   "outputs": [
    {
     "name": "stdout",
     "output_type": "stream",
     "text": [
      "[ -8.69938551  18.09048613  30.73258469   0.12765393   6.23726935   0.        ]\n",
      "[-3.43318611  7.12674082  5.80098609]\n",
      "[-0.04099077 -0.12118171  0.        ]\n"
     ]
    }
   ],
   "source": [
    "# the pose, velocity, and angular velocity of the quadcopter at the end of the episode\n",
    "print(task.sim.pose)\n",
    "print(task.sim.v)\n",
    "print(task.sim.angular_v)"
   ]
  },
  {
   "cell_type": "markdown",
   "metadata": {},
   "source": [
    "In the sample task in `task.py`, we use the 6-dimensional pose of the quadcopter to construct the state of the environment at each timestep.  However, when amending the task for your purposes, you are welcome to expand the size of the state vector by including the velocity information.  You can use any combination of the pose, velocity, and angular velocity - feel free to tinker here, and construct the state to suit your task.\n",
    "\n",
    "## The Task\n",
    "\n",
    "A sample task has been provided for you in `task.py`.  Open this file in a new window now. \n",
    "\n",
    "The `__init__()` method is used to initialize several variables that are needed to specify the task.  \n",
    "- The simulator is initialized as an instance of the `PhysicsSim` class (from `physics_sim.py`).  \n",
    "- Inspired by the methodology in the original DDPG paper, we make use of action repeats.  For each timestep of the agent, we step the simulation `action_repeats` timesteps.  If you are not familiar with action repeats, please read the **Results** section in [the DDPG paper](https://arxiv.org/abs/1509.02971).\n",
    "- We set the number of elements in the state vector.  For the sample task, we only work with the 6-dimensional pose information.  To set the size of the state (`state_size`), we must take action repeats into account.  \n",
    "- The environment will always have a 4-dimensional action space, with one entry for each rotor (`action_size=4`). You can set the minimum (`action_low`) and maximum (`action_high`) values of each entry here.\n",
    "- The sample task in this provided file is for the agent to reach a target position.  We specify that target position as a variable.\n",
    "\n",
    "The `reset()` method resets the simulator.  The agent should call this method every time the episode ends.  You can see an example of this in the code cell below.\n",
    "\n",
    "The `step()` method is perhaps the most important.  It accepts the agent's choice of action `rotor_speeds`, which is used to prepare the next state to pass on to the agent.  Then, the reward is computed from `get_reward()`.  The episode is considered done if the time limit has been exceeded, or the quadcopter has travelled outside of the bounds of the simulation.\n",
    "\n",
    "In the next section, you will learn how to test the performance of an agent on this task."
   ]
  },
  {
   "cell_type": "markdown",
   "metadata": {},
   "source": [
    "## The Agent\n",
    "\n",
    "The sample agent given in `agents/policy_search.py` uses a very simplistic linear policy to directly compute the action vector as a dot product of the state vector and a matrix of weights. Then, it randomly perturbs the parameters by adding some Gaussian noise, to produce a different policy. Based on the average reward obtained in each episode (`score`), it keeps track of the best set of parameters found so far, how the score is changing, and accordingly tweaks a scaling factor to widen or tighten the noise.\n",
    "\n",
    "Run the code cell below to see how the agent performs on the sample task."
   ]
  },
  {
   "cell_type": "code",
   "execution_count": 8,
   "metadata": {},
   "outputs": [
    {
     "name": "stdout",
     "output_type": "stream",
     "text": [
      "The autoreload extension is already loaded. To reload it, use:\n",
      "  %reload_ext autoreload\n",
      "Episode = 1000, score =  -0.625 (best =   0.077), noise_scale = 3.25"
     ]
    }
   ],
   "source": [
    "%load_ext autoreload\n",
    "%autoreload 2\n",
    "\n",
    "import sys\n",
    "import pandas as pd\n",
    "from agents.policy_search import PolicySearch_Agent\n",
    "from task import Task\n",
    "\n",
    "num_episodes = 10 #1000\n",
    "target_pos = np.array([0., 0., 10.])\n",
    "task = Task(target_pos=target_pos)\n",
    "agent = PolicySearch_Agent(task) \n",
    "\n",
    "for i_episode in range(1, num_episodes+1):\n",
    "    state = agent.reset_episode() # start a new episode\n",
    "    while True:\n",
    "        action = agent.act(state) \n",
    "        next_state, reward, done = task.step(action)\n",
    "        agent.step(reward, done)\n",
    "        state = next_state\n",
    "        if done:\n",
    "            print(\"\\rEpisode = {:4d}, score = {:7.3f} (best = {:7.3f}), noise_scale = {}\".format(\n",
    "                i_episode, agent.score, agent.best_score, agent.noise_scale), end=\"\")  # [debug]\n",
    "            break\n",
    "    sys.stdout.flush()"
   ]
  },
  {
   "cell_type": "markdown",
   "metadata": {},
   "source": [
    "This agent should perform very poorly on this task.  And that's where you come in!"
   ]
  },
  {
   "cell_type": "markdown",
   "metadata": {},
   "source": [
    "## Define the Task, Design the Agent, and Train Your Agent!\n",
    "\n",
    "Amend `task.py` to specify a task of your choosing.  If you're unsure what kind of task to specify, you may like to teach your quadcopter to takeoff, hover in place, land softly, or reach a target pose.  \n",
    "\n",
    "After specifying your task, use the sample agent in `agents/policy_search.py` as a template to define your own agent in `agents/agent.py`.  You can borrow whatever you need from the sample agent, including ideas on how you might modularize your code (using helper methods like `act()`, `learn()`, `reset_episode()`, etc.).\n",
    "\n",
    "Note that it is **highly unlikely** that the first agent and task that you specify will learn well.  You will likely have to tweak various hyperparameters and the reward function for your task until you arrive at reasonably good behavior.\n",
    "\n",
    "As you develop your agent, it's important to keep an eye on how it's performing. Use the code above as inspiration to build in a mechanism to log/save the total rewards obtained in each episode to file.  If the episode rewards are gradually increasing, this is an indication that your agent is learning."
   ]
  },
  {
   "cell_type": "code",
   "execution_count": 17,
   "metadata": {},
   "outputs": [
    {
     "name": "stdout",
     "output_type": "stream",
     "text": [
      "[-5.41697918  2.48211988  0.          3.90808925  2.88358881  0.        ]\n",
      "[ -2.027968     4.56316899 -12.10468028]\n",
      "[-27.90429176 -16.94391619   0.        ]\n",
      "1.8600000000000012\n"
     ]
    }
   ],
   "source": [
    "# the pose, velocity, and angular velocity of the quadcopter at the end of the episode\n",
    "print(task.sim.pose)\n",
    "print(task.sim.v)\n",
    "print(task.sim.angular_v)\n",
    "print(task.sim.time)"
   ]
  },
  {
   "cell_type": "code",
   "execution_count": null,
   "metadata": {},
   "outputs": [
    {
     "name": "stderr",
     "output_type": "stream",
     "text": [
      "Using TensorFlow backend.\n"
     ]
    },
    {
     "data": {
      "application/javascript": [
       "/* Put everything inside the global mpl namespace */\n",
       "window.mpl = {};\n",
       "\n",
       "\n",
       "mpl.get_websocket_type = function() {\n",
       "    if (typeof(WebSocket) !== 'undefined') {\n",
       "        return WebSocket;\n",
       "    } else if (typeof(MozWebSocket) !== 'undefined') {\n",
       "        return MozWebSocket;\n",
       "    } else {\n",
       "        alert('Your browser does not have WebSocket support.' +\n",
       "              'Please try Chrome, Safari or Firefox ≥ 6. ' +\n",
       "              'Firefox 4 and 5 are also supported but you ' +\n",
       "              'have to enable WebSockets in about:config.');\n",
       "    };\n",
       "}\n",
       "\n",
       "mpl.figure = function(figure_id, websocket, ondownload, parent_element) {\n",
       "    this.id = figure_id;\n",
       "\n",
       "    this.ws = websocket;\n",
       "\n",
       "    this.supports_binary = (this.ws.binaryType != undefined);\n",
       "\n",
       "    if (!this.supports_binary) {\n",
       "        var warnings = document.getElementById(\"mpl-warnings\");\n",
       "        if (warnings) {\n",
       "            warnings.style.display = 'block';\n",
       "            warnings.textContent = (\n",
       "                \"This browser does not support binary websocket messages. \" +\n",
       "                    \"Performance may be slow.\");\n",
       "        }\n",
       "    }\n",
       "\n",
       "    this.imageObj = new Image();\n",
       "\n",
       "    this.context = undefined;\n",
       "    this.message = undefined;\n",
       "    this.canvas = undefined;\n",
       "    this.rubberband_canvas = undefined;\n",
       "    this.rubberband_context = undefined;\n",
       "    this.format_dropdown = undefined;\n",
       "\n",
       "    this.image_mode = 'full';\n",
       "\n",
       "    this.root = $('<div/>');\n",
       "    this._root_extra_style(this.root)\n",
       "    this.root.attr('style', 'display: inline-block');\n",
       "\n",
       "    $(parent_element).append(this.root);\n",
       "\n",
       "    this._init_header(this);\n",
       "    this._init_canvas(this);\n",
       "    this._init_toolbar(this);\n",
       "\n",
       "    var fig = this;\n",
       "\n",
       "    this.waiting = false;\n",
       "\n",
       "    this.ws.onopen =  function () {\n",
       "            fig.send_message(\"supports_binary\", {value: fig.supports_binary});\n",
       "            fig.send_message(\"send_image_mode\", {});\n",
       "            if (mpl.ratio != 1) {\n",
       "                fig.send_message(\"set_dpi_ratio\", {'dpi_ratio': mpl.ratio});\n",
       "            }\n",
       "            fig.send_message(\"refresh\", {});\n",
       "        }\n",
       "\n",
       "    this.imageObj.onload = function() {\n",
       "            if (fig.image_mode == 'full') {\n",
       "                // Full images could contain transparency (where diff images\n",
       "                // almost always do), so we need to clear the canvas so that\n",
       "                // there is no ghosting.\n",
       "                fig.context.clearRect(0, 0, fig.canvas.width, fig.canvas.height);\n",
       "            }\n",
       "            fig.context.drawImage(fig.imageObj, 0, 0);\n",
       "        };\n",
       "\n",
       "    this.imageObj.onunload = function() {\n",
       "        this.ws.close();\n",
       "    }\n",
       "\n",
       "    this.ws.onmessage = this._make_on_message_function(this);\n",
       "\n",
       "    this.ondownload = ondownload;\n",
       "}\n",
       "\n",
       "mpl.figure.prototype._init_header = function() {\n",
       "    var titlebar = $(\n",
       "        '<div class=\"ui-dialog-titlebar ui-widget-header ui-corner-all ' +\n",
       "        'ui-helper-clearfix\"/>');\n",
       "    var titletext = $(\n",
       "        '<div class=\"ui-dialog-title\" style=\"width: 100%; ' +\n",
       "        'text-align: center; padding: 3px;\"/>');\n",
       "    titlebar.append(titletext)\n",
       "    this.root.append(titlebar);\n",
       "    this.header = titletext[0];\n",
       "}\n",
       "\n",
       "\n",
       "\n",
       "mpl.figure.prototype._canvas_extra_style = function(canvas_div) {\n",
       "\n",
       "}\n",
       "\n",
       "\n",
       "mpl.figure.prototype._root_extra_style = function(canvas_div) {\n",
       "\n",
       "}\n",
       "\n",
       "mpl.figure.prototype._init_canvas = function() {\n",
       "    var fig = this;\n",
       "\n",
       "    var canvas_div = $('<div/>');\n",
       "\n",
       "    canvas_div.attr('style', 'position: relative; clear: both; outline: 0');\n",
       "\n",
       "    function canvas_keyboard_event(event) {\n",
       "        return fig.key_event(event, event['data']);\n",
       "    }\n",
       "\n",
       "    canvas_div.keydown('key_press', canvas_keyboard_event);\n",
       "    canvas_div.keyup('key_release', canvas_keyboard_event);\n",
       "    this.canvas_div = canvas_div\n",
       "    this._canvas_extra_style(canvas_div)\n",
       "    this.root.append(canvas_div);\n",
       "\n",
       "    var canvas = $('<canvas/>');\n",
       "    canvas.addClass('mpl-canvas');\n",
       "    canvas.attr('style', \"left: 0; top: 0; z-index: 0; outline: 0\")\n",
       "\n",
       "    this.canvas = canvas[0];\n",
       "    this.context = canvas[0].getContext(\"2d\");\n",
       "\n",
       "    var backingStore = this.context.backingStorePixelRatio ||\n",
       "\tthis.context.webkitBackingStorePixelRatio ||\n",
       "\tthis.context.mozBackingStorePixelRatio ||\n",
       "\tthis.context.msBackingStorePixelRatio ||\n",
       "\tthis.context.oBackingStorePixelRatio ||\n",
       "\tthis.context.backingStorePixelRatio || 1;\n",
       "\n",
       "    mpl.ratio = (window.devicePixelRatio || 1) / backingStore;\n",
       "\n",
       "    var rubberband = $('<canvas/>');\n",
       "    rubberband.attr('style', \"position: absolute; left: 0; top: 0; z-index: 1;\")\n",
       "\n",
       "    var pass_mouse_events = true;\n",
       "\n",
       "    canvas_div.resizable({\n",
       "        start: function(event, ui) {\n",
       "            pass_mouse_events = false;\n",
       "        },\n",
       "        resize: function(event, ui) {\n",
       "            fig.request_resize(ui.size.width, ui.size.height);\n",
       "        },\n",
       "        stop: function(event, ui) {\n",
       "            pass_mouse_events = true;\n",
       "            fig.request_resize(ui.size.width, ui.size.height);\n",
       "        },\n",
       "    });\n",
       "\n",
       "    function mouse_event_fn(event) {\n",
       "        if (pass_mouse_events)\n",
       "            return fig.mouse_event(event, event['data']);\n",
       "    }\n",
       "\n",
       "    rubberband.mousedown('button_press', mouse_event_fn);\n",
       "    rubberband.mouseup('button_release', mouse_event_fn);\n",
       "    // Throttle sequential mouse events to 1 every 20ms.\n",
       "    rubberband.mousemove('motion_notify', mouse_event_fn);\n",
       "\n",
       "    rubberband.mouseenter('figure_enter', mouse_event_fn);\n",
       "    rubberband.mouseleave('figure_leave', mouse_event_fn);\n",
       "\n",
       "    canvas_div.on(\"wheel\", function (event) {\n",
       "        event = event.originalEvent;\n",
       "        event['data'] = 'scroll'\n",
       "        if (event.deltaY < 0) {\n",
       "            event.step = 1;\n",
       "        } else {\n",
       "            event.step = -1;\n",
       "        }\n",
       "        mouse_event_fn(event);\n",
       "    });\n",
       "\n",
       "    canvas_div.append(canvas);\n",
       "    canvas_div.append(rubberband);\n",
       "\n",
       "    this.rubberband = rubberband;\n",
       "    this.rubberband_canvas = rubberband[0];\n",
       "    this.rubberband_context = rubberband[0].getContext(\"2d\");\n",
       "    this.rubberband_context.strokeStyle = \"#000000\";\n",
       "\n",
       "    this._resize_canvas = function(width, height) {\n",
       "        // Keep the size of the canvas, canvas container, and rubber band\n",
       "        // canvas in synch.\n",
       "        canvas_div.css('width', width)\n",
       "        canvas_div.css('height', height)\n",
       "\n",
       "        canvas.attr('width', width * mpl.ratio);\n",
       "        canvas.attr('height', height * mpl.ratio);\n",
       "        canvas.attr('style', 'width: ' + width + 'px; height: ' + height + 'px;');\n",
       "\n",
       "        rubberband.attr('width', width);\n",
       "        rubberband.attr('height', height);\n",
       "    }\n",
       "\n",
       "    // Set the figure to an initial 600x600px, this will subsequently be updated\n",
       "    // upon first draw.\n",
       "    this._resize_canvas(600, 600);\n",
       "\n",
       "    // Disable right mouse context menu.\n",
       "    $(this.rubberband_canvas).bind(\"contextmenu\",function(e){\n",
       "        return false;\n",
       "    });\n",
       "\n",
       "    function set_focus () {\n",
       "        canvas.focus();\n",
       "        canvas_div.focus();\n",
       "    }\n",
       "\n",
       "    window.setTimeout(set_focus, 100);\n",
       "}\n",
       "\n",
       "mpl.figure.prototype._init_toolbar = function() {\n",
       "    var fig = this;\n",
       "\n",
       "    var nav_element = $('<div/>')\n",
       "    nav_element.attr('style', 'width: 100%');\n",
       "    this.root.append(nav_element);\n",
       "\n",
       "    // Define a callback function for later on.\n",
       "    function toolbar_event(event) {\n",
       "        return fig.toolbar_button_onclick(event['data']);\n",
       "    }\n",
       "    function toolbar_mouse_event(event) {\n",
       "        return fig.toolbar_button_onmouseover(event['data']);\n",
       "    }\n",
       "\n",
       "    for(var toolbar_ind in mpl.toolbar_items) {\n",
       "        var name = mpl.toolbar_items[toolbar_ind][0];\n",
       "        var tooltip = mpl.toolbar_items[toolbar_ind][1];\n",
       "        var image = mpl.toolbar_items[toolbar_ind][2];\n",
       "        var method_name = mpl.toolbar_items[toolbar_ind][3];\n",
       "\n",
       "        if (!name) {\n",
       "            // put a spacer in here.\n",
       "            continue;\n",
       "        }\n",
       "        var button = $('<button/>');\n",
       "        button.addClass('ui-button ui-widget ui-state-default ui-corner-all ' +\n",
       "                        'ui-button-icon-only');\n",
       "        button.attr('role', 'button');\n",
       "        button.attr('aria-disabled', 'false');\n",
       "        button.click(method_name, toolbar_event);\n",
       "        button.mouseover(tooltip, toolbar_mouse_event);\n",
       "\n",
       "        var icon_img = $('<span/>');\n",
       "        icon_img.addClass('ui-button-icon-primary ui-icon');\n",
       "        icon_img.addClass(image);\n",
       "        icon_img.addClass('ui-corner-all');\n",
       "\n",
       "        var tooltip_span = $('<span/>');\n",
       "        tooltip_span.addClass('ui-button-text');\n",
       "        tooltip_span.html(tooltip);\n",
       "\n",
       "        button.append(icon_img);\n",
       "        button.append(tooltip_span);\n",
       "\n",
       "        nav_element.append(button);\n",
       "    }\n",
       "\n",
       "    var fmt_picker_span = $('<span/>');\n",
       "\n",
       "    var fmt_picker = $('<select/>');\n",
       "    fmt_picker.addClass('mpl-toolbar-option ui-widget ui-widget-content');\n",
       "    fmt_picker_span.append(fmt_picker);\n",
       "    nav_element.append(fmt_picker_span);\n",
       "    this.format_dropdown = fmt_picker[0];\n",
       "\n",
       "    for (var ind in mpl.extensions) {\n",
       "        var fmt = mpl.extensions[ind];\n",
       "        var option = $(\n",
       "            '<option/>', {selected: fmt === mpl.default_extension}).html(fmt);\n",
       "        fmt_picker.append(option)\n",
       "    }\n",
       "\n",
       "    // Add hover states to the ui-buttons\n",
       "    $( \".ui-button\" ).hover(\n",
       "        function() { $(this).addClass(\"ui-state-hover\");},\n",
       "        function() { $(this).removeClass(\"ui-state-hover\");}\n",
       "    );\n",
       "\n",
       "    var status_bar = $('<span class=\"mpl-message\"/>');\n",
       "    nav_element.append(status_bar);\n",
       "    this.message = status_bar[0];\n",
       "}\n",
       "\n",
       "mpl.figure.prototype.request_resize = function(x_pixels, y_pixels) {\n",
       "    // Request matplotlib to resize the figure. Matplotlib will then trigger a resize in the client,\n",
       "    // which will in turn request a refresh of the image.\n",
       "    this.send_message('resize', {'width': x_pixels, 'height': y_pixels});\n",
       "}\n",
       "\n",
       "mpl.figure.prototype.send_message = function(type, properties) {\n",
       "    properties['type'] = type;\n",
       "    properties['figure_id'] = this.id;\n",
       "    this.ws.send(JSON.stringify(properties));\n",
       "}\n",
       "\n",
       "mpl.figure.prototype.send_draw_message = function() {\n",
       "    if (!this.waiting) {\n",
       "        this.waiting = true;\n",
       "        this.ws.send(JSON.stringify({type: \"draw\", figure_id: this.id}));\n",
       "    }\n",
       "}\n",
       "\n",
       "\n",
       "mpl.figure.prototype.handle_save = function(fig, msg) {\n",
       "    var format_dropdown = fig.format_dropdown;\n",
       "    var format = format_dropdown.options[format_dropdown.selectedIndex].value;\n",
       "    fig.ondownload(fig, format);\n",
       "}\n",
       "\n",
       "\n",
       "mpl.figure.prototype.handle_resize = function(fig, msg) {\n",
       "    var size = msg['size'];\n",
       "    if (size[0] != fig.canvas.width || size[1] != fig.canvas.height) {\n",
       "        fig._resize_canvas(size[0], size[1]);\n",
       "        fig.send_message(\"refresh\", {});\n",
       "    };\n",
       "}\n",
       "\n",
       "mpl.figure.prototype.handle_rubberband = function(fig, msg) {\n",
       "    var x0 = msg['x0'] / mpl.ratio;\n",
       "    var y0 = (fig.canvas.height - msg['y0']) / mpl.ratio;\n",
       "    var x1 = msg['x1'] / mpl.ratio;\n",
       "    var y1 = (fig.canvas.height - msg['y1']) / mpl.ratio;\n",
       "    x0 = Math.floor(x0) + 0.5;\n",
       "    y0 = Math.floor(y0) + 0.5;\n",
       "    x1 = Math.floor(x1) + 0.5;\n",
       "    y1 = Math.floor(y1) + 0.5;\n",
       "    var min_x = Math.min(x0, x1);\n",
       "    var min_y = Math.min(y0, y1);\n",
       "    var width = Math.abs(x1 - x0);\n",
       "    var height = Math.abs(y1 - y0);\n",
       "\n",
       "    fig.rubberband_context.clearRect(\n",
       "        0, 0, fig.canvas.width, fig.canvas.height);\n",
       "\n",
       "    fig.rubberband_context.strokeRect(min_x, min_y, width, height);\n",
       "}\n",
       "\n",
       "mpl.figure.prototype.handle_figure_label = function(fig, msg) {\n",
       "    // Updates the figure title.\n",
       "    fig.header.textContent = msg['label'];\n",
       "}\n",
       "\n",
       "mpl.figure.prototype.handle_cursor = function(fig, msg) {\n",
       "    var cursor = msg['cursor'];\n",
       "    switch(cursor)\n",
       "    {\n",
       "    case 0:\n",
       "        cursor = 'pointer';\n",
       "        break;\n",
       "    case 1:\n",
       "        cursor = 'default';\n",
       "        break;\n",
       "    case 2:\n",
       "        cursor = 'crosshair';\n",
       "        break;\n",
       "    case 3:\n",
       "        cursor = 'move';\n",
       "        break;\n",
       "    }\n",
       "    fig.rubberband_canvas.style.cursor = cursor;\n",
       "}\n",
       "\n",
       "mpl.figure.prototype.handle_message = function(fig, msg) {\n",
       "    fig.message.textContent = msg['message'];\n",
       "}\n",
       "\n",
       "mpl.figure.prototype.handle_draw = function(fig, msg) {\n",
       "    // Request the server to send over a new figure.\n",
       "    fig.send_draw_message();\n",
       "}\n",
       "\n",
       "mpl.figure.prototype.handle_image_mode = function(fig, msg) {\n",
       "    fig.image_mode = msg['mode'];\n",
       "}\n",
       "\n",
       "mpl.figure.prototype.updated_canvas_event = function() {\n",
       "    // Called whenever the canvas gets updated.\n",
       "    this.send_message(\"ack\", {});\n",
       "}\n",
       "\n",
       "// A function to construct a web socket function for onmessage handling.\n",
       "// Called in the figure constructor.\n",
       "mpl.figure.prototype._make_on_message_function = function(fig) {\n",
       "    return function socket_on_message(evt) {\n",
       "        if (evt.data instanceof Blob) {\n",
       "            /* FIXME: We get \"Resource interpreted as Image but\n",
       "             * transferred with MIME type text/plain:\" errors on\n",
       "             * Chrome.  But how to set the MIME type?  It doesn't seem\n",
       "             * to be part of the websocket stream */\n",
       "            evt.data.type = \"image/png\";\n",
       "\n",
       "            /* Free the memory for the previous frames */\n",
       "            if (fig.imageObj.src) {\n",
       "                (window.URL || window.webkitURL).revokeObjectURL(\n",
       "                    fig.imageObj.src);\n",
       "            }\n",
       "\n",
       "            fig.imageObj.src = (window.URL || window.webkitURL).createObjectURL(\n",
       "                evt.data);\n",
       "            fig.updated_canvas_event();\n",
       "            fig.waiting = false;\n",
       "            return;\n",
       "        }\n",
       "        else if (typeof evt.data === 'string' && evt.data.slice(0, 21) == \"data:image/png;base64\") {\n",
       "            fig.imageObj.src = evt.data;\n",
       "            fig.updated_canvas_event();\n",
       "            fig.waiting = false;\n",
       "            return;\n",
       "        }\n",
       "\n",
       "        var msg = JSON.parse(evt.data);\n",
       "        var msg_type = msg['type'];\n",
       "\n",
       "        // Call the  \"handle_{type}\" callback, which takes\n",
       "        // the figure and JSON message as its only arguments.\n",
       "        try {\n",
       "            var callback = fig[\"handle_\" + msg_type];\n",
       "        } catch (e) {\n",
       "            console.log(\"No handler for the '\" + msg_type + \"' message type: \", msg);\n",
       "            return;\n",
       "        }\n",
       "\n",
       "        if (callback) {\n",
       "            try {\n",
       "                // console.log(\"Handling '\" + msg_type + \"' message: \", msg);\n",
       "                callback(fig, msg);\n",
       "            } catch (e) {\n",
       "                console.log(\"Exception inside the 'handler_\" + msg_type + \"' callback:\", e, e.stack, msg);\n",
       "            }\n",
       "        }\n",
       "    };\n",
       "}\n",
       "\n",
       "// from http://stackoverflow.com/questions/1114465/getting-mouse-location-in-canvas\n",
       "mpl.findpos = function(e) {\n",
       "    //this section is from http://www.quirksmode.org/js/events_properties.html\n",
       "    var targ;\n",
       "    if (!e)\n",
       "        e = window.event;\n",
       "    if (e.target)\n",
       "        targ = e.target;\n",
       "    else if (e.srcElement)\n",
       "        targ = e.srcElement;\n",
       "    if (targ.nodeType == 3) // defeat Safari bug\n",
       "        targ = targ.parentNode;\n",
       "\n",
       "    // jQuery normalizes the pageX and pageY\n",
       "    // pageX,Y are the mouse positions relative to the document\n",
       "    // offset() returns the position of the element relative to the document\n",
       "    var x = e.pageX - $(targ).offset().left;\n",
       "    var y = e.pageY - $(targ).offset().top;\n",
       "\n",
       "    return {\"x\": x, \"y\": y};\n",
       "};\n",
       "\n",
       "/*\n",
       " * return a copy of an object with only non-object keys\n",
       " * we need this to avoid circular references\n",
       " * http://stackoverflow.com/a/24161582/3208463\n",
       " */\n",
       "function simpleKeys (original) {\n",
       "  return Object.keys(original).reduce(function (obj, key) {\n",
       "    if (typeof original[key] !== 'object')\n",
       "        obj[key] = original[key]\n",
       "    return obj;\n",
       "  }, {});\n",
       "}\n",
       "\n",
       "mpl.figure.prototype.mouse_event = function(event, name) {\n",
       "    var canvas_pos = mpl.findpos(event)\n",
       "\n",
       "    if (name === 'button_press')\n",
       "    {\n",
       "        this.canvas.focus();\n",
       "        this.canvas_div.focus();\n",
       "    }\n",
       "\n",
       "    var x = canvas_pos.x * mpl.ratio;\n",
       "    var y = canvas_pos.y * mpl.ratio;\n",
       "\n",
       "    this.send_message(name, {x: x, y: y, button: event.button,\n",
       "                             step: event.step,\n",
       "                             guiEvent: simpleKeys(event)});\n",
       "\n",
       "    /* This prevents the web browser from automatically changing to\n",
       "     * the text insertion cursor when the button is pressed.  We want\n",
       "     * to control all of the cursor setting manually through the\n",
       "     * 'cursor' event from matplotlib */\n",
       "    event.preventDefault();\n",
       "    return false;\n",
       "}\n",
       "\n",
       "mpl.figure.prototype._key_event_extra = function(event, name) {\n",
       "    // Handle any extra behaviour associated with a key event\n",
       "}\n",
       "\n",
       "mpl.figure.prototype.key_event = function(event, name) {\n",
       "\n",
       "    // Prevent repeat events\n",
       "    if (name == 'key_press')\n",
       "    {\n",
       "        if (event.which === this._key)\n",
       "            return;\n",
       "        else\n",
       "            this._key = event.which;\n",
       "    }\n",
       "    if (name == 'key_release')\n",
       "        this._key = null;\n",
       "\n",
       "    var value = '';\n",
       "    if (event.ctrlKey && event.which != 17)\n",
       "        value += \"ctrl+\";\n",
       "    if (event.altKey && event.which != 18)\n",
       "        value += \"alt+\";\n",
       "    if (event.shiftKey && event.which != 16)\n",
       "        value += \"shift+\";\n",
       "\n",
       "    value += 'k';\n",
       "    value += event.which.toString();\n",
       "\n",
       "    this._key_event_extra(event, name);\n",
       "\n",
       "    this.send_message(name, {key: value,\n",
       "                             guiEvent: simpleKeys(event)});\n",
       "    return false;\n",
       "}\n",
       "\n",
       "mpl.figure.prototype.toolbar_button_onclick = function(name) {\n",
       "    if (name == 'download') {\n",
       "        this.handle_save(this, null);\n",
       "    } else {\n",
       "        this.send_message(\"toolbar_button\", {name: name});\n",
       "    }\n",
       "};\n",
       "\n",
       "mpl.figure.prototype.toolbar_button_onmouseover = function(tooltip) {\n",
       "    this.message.textContent = tooltip;\n",
       "};\n",
       "mpl.toolbar_items = [[\"Home\", \"Reset original view\", \"fa fa-home icon-home\", \"home\"], [\"Back\", \"Back to  previous view\", \"fa fa-arrow-left icon-arrow-left\", \"back\"], [\"Forward\", \"Forward to next view\", \"fa fa-arrow-right icon-arrow-right\", \"forward\"], [\"\", \"\", \"\", \"\"], [\"Pan\", \"Pan axes with left mouse, zoom with right\", \"fa fa-arrows icon-move\", \"pan\"], [\"Zoom\", \"Zoom to rectangle\", \"fa fa-square-o icon-check-empty\", \"zoom\"], [\"\", \"\", \"\", \"\"], [\"Download\", \"Download plot\", \"fa fa-floppy-o icon-save\", \"download\"]];\n",
       "\n",
       "mpl.extensions = [\"eps\", \"jpeg\", \"pdf\", \"png\", \"ps\", \"raw\", \"svg\", \"tif\"];\n",
       "\n",
       "mpl.default_extension = \"png\";var comm_websocket_adapter = function(comm) {\n",
       "    // Create a \"websocket\"-like object which calls the given IPython comm\n",
       "    // object with the appropriate methods. Currently this is a non binary\n",
       "    // socket, so there is still some room for performance tuning.\n",
       "    var ws = {};\n",
       "\n",
       "    ws.close = function() {\n",
       "        comm.close()\n",
       "    };\n",
       "    ws.send = function(m) {\n",
       "        //console.log('sending', m);\n",
       "        comm.send(m);\n",
       "    };\n",
       "    // Register the callback with on_msg.\n",
       "    comm.on_msg(function(msg) {\n",
       "        //console.log('receiving', msg['content']['data'], msg);\n",
       "        // Pass the mpl event to the overriden (by mpl) onmessage function.\n",
       "        ws.onmessage(msg['content']['data'])\n",
       "    });\n",
       "    return ws;\n",
       "}\n",
       "\n",
       "mpl.mpl_figure_comm = function(comm, msg) {\n",
       "    // This is the function which gets called when the mpl process\n",
       "    // starts-up an IPython Comm through the \"matplotlib\" channel.\n",
       "\n",
       "    var id = msg.content.data.id;\n",
       "    // Get hold of the div created by the display call when the Comm\n",
       "    // socket was opened in Python.\n",
       "    var element = $(\"#\" + id);\n",
       "    var ws_proxy = comm_websocket_adapter(comm)\n",
       "\n",
       "    function ondownload(figure, format) {\n",
       "        window.open(figure.imageObj.src);\n",
       "    }\n",
       "\n",
       "    var fig = new mpl.figure(id, ws_proxy,\n",
       "                           ondownload,\n",
       "                           element.get(0));\n",
       "\n",
       "    // Call onopen now - mpl needs it, as it is assuming we've passed it a real\n",
       "    // web socket which is closed, not our websocket->open comm proxy.\n",
       "    ws_proxy.onopen();\n",
       "\n",
       "    fig.parent_element = element.get(0);\n",
       "    fig.cell_info = mpl.find_output_cell(\"<div id='\" + id + \"'></div>\");\n",
       "    if (!fig.cell_info) {\n",
       "        console.error(\"Failed to find cell for figure\", id, fig);\n",
       "        return;\n",
       "    }\n",
       "\n",
       "    var output_index = fig.cell_info[2]\n",
       "    var cell = fig.cell_info[0];\n",
       "\n",
       "};\n",
       "\n",
       "mpl.figure.prototype.handle_close = function(fig, msg) {\n",
       "    var width = fig.canvas.width/mpl.ratio\n",
       "    fig.root.unbind('remove')\n",
       "\n",
       "    // Update the output cell to use the data from the current canvas.\n",
       "    fig.push_to_output();\n",
       "    var dataURL = fig.canvas.toDataURL();\n",
       "    // Re-enable the keyboard manager in IPython - without this line, in FF,\n",
       "    // the notebook keyboard shortcuts fail.\n",
       "    IPython.keyboard_manager.enable()\n",
       "    $(fig.parent_element).html('<img src=\"' + dataURL + '\" width=\"' + width + '\">');\n",
       "    fig.close_ws(fig, msg);\n",
       "}\n",
       "\n",
       "mpl.figure.prototype.close_ws = function(fig, msg){\n",
       "    fig.send_message('closing', msg);\n",
       "    // fig.ws.close()\n",
       "}\n",
       "\n",
       "mpl.figure.prototype.push_to_output = function(remove_interactive) {\n",
       "    // Turn the data on the canvas into data in the output cell.\n",
       "    var width = this.canvas.width/mpl.ratio\n",
       "    var dataURL = this.canvas.toDataURL();\n",
       "    this.cell_info[1]['text/html'] = '<img src=\"' + dataURL + '\" width=\"' + width + '\">';\n",
       "}\n",
       "\n",
       "mpl.figure.prototype.updated_canvas_event = function() {\n",
       "    // Tell IPython that the notebook contents must change.\n",
       "    IPython.notebook.set_dirty(true);\n",
       "    this.send_message(\"ack\", {});\n",
       "    var fig = this;\n",
       "    // Wait a second, then push the new image to the DOM so\n",
       "    // that it is saved nicely (might be nice to debounce this).\n",
       "    setTimeout(function () { fig.push_to_output() }, 1000);\n",
       "}\n",
       "\n",
       "mpl.figure.prototype._init_toolbar = function() {\n",
       "    var fig = this;\n",
       "\n",
       "    var nav_element = $('<div/>')\n",
       "    nav_element.attr('style', 'width: 100%');\n",
       "    this.root.append(nav_element);\n",
       "\n",
       "    // Define a callback function for later on.\n",
       "    function toolbar_event(event) {\n",
       "        return fig.toolbar_button_onclick(event['data']);\n",
       "    }\n",
       "    function toolbar_mouse_event(event) {\n",
       "        return fig.toolbar_button_onmouseover(event['data']);\n",
       "    }\n",
       "\n",
       "    for(var toolbar_ind in mpl.toolbar_items){\n",
       "        var name = mpl.toolbar_items[toolbar_ind][0];\n",
       "        var tooltip = mpl.toolbar_items[toolbar_ind][1];\n",
       "        var image = mpl.toolbar_items[toolbar_ind][2];\n",
       "        var method_name = mpl.toolbar_items[toolbar_ind][3];\n",
       "\n",
       "        if (!name) { continue; };\n",
       "\n",
       "        var button = $('<button class=\"btn btn-default\" href=\"#\" title=\"' + name + '\"><i class=\"fa ' + image + ' fa-lg\"></i></button>');\n",
       "        button.click(method_name, toolbar_event);\n",
       "        button.mouseover(tooltip, toolbar_mouse_event);\n",
       "        nav_element.append(button);\n",
       "    }\n",
       "\n",
       "    // Add the status bar.\n",
       "    var status_bar = $('<span class=\"mpl-message\" style=\"text-align:right; float: right;\"/>');\n",
       "    nav_element.append(status_bar);\n",
       "    this.message = status_bar[0];\n",
       "\n",
       "    // Add the close button to the window.\n",
       "    var buttongrp = $('<div class=\"btn-group inline pull-right\"></div>');\n",
       "    var button = $('<button class=\"btn btn-mini btn-primary\" href=\"#\" title=\"Stop Interaction\"><i class=\"fa fa-power-off icon-remove icon-large\"></i></button>');\n",
       "    button.click(function (evt) { fig.handle_close(fig, {}); } );\n",
       "    button.mouseover('Stop Interaction', toolbar_mouse_event);\n",
       "    buttongrp.append(button);\n",
       "    var titlebar = this.root.find($('.ui-dialog-titlebar'));\n",
       "    titlebar.prepend(buttongrp);\n",
       "}\n",
       "\n",
       "mpl.figure.prototype._root_extra_style = function(el){\n",
       "    var fig = this\n",
       "    el.on(\"remove\", function(){\n",
       "\tfig.close_ws(fig, {});\n",
       "    });\n",
       "}\n",
       "\n",
       "mpl.figure.prototype._canvas_extra_style = function(el){\n",
       "    // this is important to make the div 'focusable\n",
       "    el.attr('tabindex', 0)\n",
       "    // reach out to IPython and tell the keyboard manager to turn it's self\n",
       "    // off when our div gets focus\n",
       "\n",
       "    // location in version 3\n",
       "    if (IPython.notebook.keyboard_manager) {\n",
       "        IPython.notebook.keyboard_manager.register_events(el);\n",
       "    }\n",
       "    else {\n",
       "        // location in version 2\n",
       "        IPython.keyboard_manager.register_events(el);\n",
       "    }\n",
       "\n",
       "}\n",
       "\n",
       "mpl.figure.prototype._key_event_extra = function(event, name) {\n",
       "    var manager = IPython.notebook.keyboard_manager;\n",
       "    if (!manager)\n",
       "        manager = IPython.keyboard_manager;\n",
       "\n",
       "    // Check for shift+enter\n",
       "    if (event.shiftKey && event.which == 13) {\n",
       "        this.canvas_div.blur();\n",
       "        // select the cell after this one\n",
       "        var index = IPython.notebook.find_cell_index(this.cell_info[0]);\n",
       "        IPython.notebook.select(index + 1);\n",
       "    }\n",
       "}\n",
       "\n",
       "mpl.figure.prototype.handle_save = function(fig, msg) {\n",
       "    fig.ondownload(fig, null);\n",
       "}\n",
       "\n",
       "\n",
       "mpl.find_output_cell = function(html_output) {\n",
       "    // Return the cell and output element which can be found *uniquely* in the notebook.\n",
       "    // Note - this is a bit hacky, but it is done because the \"notebook_saving.Notebook\"\n",
       "    // IPython event is triggered only after the cells have been serialised, which for\n",
       "    // our purposes (turning an active figure into a static one), is too late.\n",
       "    var cells = IPython.notebook.get_cells();\n",
       "    var ncells = cells.length;\n",
       "    for (var i=0; i<ncells; i++) {\n",
       "        var cell = cells[i];\n",
       "        if (cell.cell_type === 'code'){\n",
       "            for (var j=0; j<cell.output_area.outputs.length; j++) {\n",
       "                var data = cell.output_area.outputs[j];\n",
       "                if (data.data) {\n",
       "                    // IPython >= 3 moved mimebundle to data attribute of output\n",
       "                    data = data.data;\n",
       "                }\n",
       "                if (data['text/html'] == html_output) {\n",
       "                    return [cell, data, j];\n",
       "                }\n",
       "            }\n",
       "        }\n",
       "    }\n",
       "}\n",
       "\n",
       "// Register the function which deals with the matplotlib target/channel.\n",
       "// The kernel may be null if the page has been refreshed.\n",
       "if (IPython.notebook.kernel != null) {\n",
       "    IPython.notebook.kernel.comm_manager.register_target('matplotlib', mpl.mpl_figure_comm);\n",
       "}\n"
      ],
      "text/plain": [
       "<IPython.core.display.Javascript object>"
      ]
     },
     "metadata": {},
     "output_type": "display_data"
    },
    {
     "data": {
      "text/html": [
       "<img src=\"data:image/png;base64,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\" width=\"640\">"
      ],
      "text/plain": [
       "<IPython.core.display.HTML object>"
      ]
     },
     "metadata": {},
     "output_type": "display_data"
    },
    {
     "name": "stderr",
     "output_type": "stream",
     "text": [
      "C:\\Users\\home\\Miniconda3\\envs\\tensorflow\\lib\\site-packages\\matplotlib\\axes\\_axes.py:545: UserWarning: No labelled objects found. Use label='...' kwarg on individual plots.\n",
      "  warnings.warn(\"No labelled objects found. \"\n"
     ]
    },
    {
     "name": "stdout",
     "output_type": "stream",
     "text": [
      "Episode =   72, sim.v[2] =  28.155, total_reward = -72.148, action = [833.06985944070595], z=142.095"
     ]
    }
   ],
   "source": [
    "## TODO: Train your agent here.\n",
    "%load_ext autoreload\n",
    "%autoreload 2\n",
    "\n",
    "import autoreload\n",
    "# ?autoreload\n",
    "\n",
    "%matplotlib notebook\n",
    "\n",
    "import numpy as np\n",
    "import sys\n",
    "import pandas as pd\n",
    "import matplotlib.pyplot as plt\n",
    "import csv\n",
    "\n",
    "from agents.agent import DDPG\n",
    "from task import Task\n",
    "\n",
    "NUM_EPISODES = 1000 #150 #1000\n",
    "\n",
    "# Modify the values below to give the quadcopter a different starting position.\n",
    "runtime = 5.                                     # time limit of the episode\n",
    "init_pose = np.array([0., 0., 10., 0., 0., 0.])  # initial pose\n",
    "init_velocities = np.array([0., 0., 0.])         # initial velocities\n",
    "init_angle_velocities = np.array([0., 0., 0.])   # initial angle velocities\n",
    "file_output = 'my_data.txt'                      # file name for saved results\n",
    "\n",
    "target_pos = np.array([0., 0., 100.])\n",
    "\n",
    "task = Task(init_pose=init_pose, target_pos=target_pos)\n",
    "agent = DDPG(task) \n",
    "\n",
    "# Output file logging\n",
    "labels = ['episode',  'x', 'y', 'z', 'total_reward', 'rotor']\n",
    "results = {x : [] for x in labels}\n",
    "\n",
    "# Plot runtime for reward and z-position over episodes\n",
    "def plt_dynamic(x, y1, ax1, y2, ax2, color_y1='b', color_y2='g'):\n",
    "    ax1.plot(x, y1, color_y1)\n",
    "    ax2.plot(x, y2, color_y2)\n",
    "    fig.canvas.draw()\n",
    "    \n",
    "fig,ax = plt.subplots(1,1)\n",
    "ax.set_xlabel('Episode') ; ax.set_ylabel('Reward')\n",
    "ax.set_xlim(1,NUM_EPISODES) ; ax.set_ylim(-100.0,10)\n",
    "\n",
    "ax2 = ax.twinx()\n",
    "ax2.set_ylabel('Z')\n",
    "ax2.set_xlim(1, NUM_EPISODES) ; ax2.set_ylim(0.0, 300.0)\n",
    "plt.legend()\n",
    "xs, ys1, ys2 = [], [], []\n",
    "plot_every_n_episode = 20\n",
    "\n",
    "# Run the simulation, and save the results.\n",
    "with open(file_output, 'w') as csvfile:\n",
    "    writer = csv.writer(csvfile)\n",
    "    writer.writerow(labels)\n",
    "    for i_episode in range(1, NUM_EPISODES+1):\n",
    "        state = agent.reset_episode() # start a new episode\n",
    "        while True:\n",
    "            action = agent.act(state) \n",
    "            next_state, reward, done = task.step(action)\n",
    "            \n",
    "#             print('z={:3.2f}, v_z={:3.2f}, reward={:3.2f}'.format(task.sim.pose[2], task.sim.v[2], reward))\n",
    "            agent.step(action, reward, next_state, done)\n",
    "            state = next_state\n",
    "            \n",
    "            if done:\n",
    "                # Write episode stats\n",
    "                to_write = [i_episode] + list(task.sim.pose[:3]) + [agent.total_reward] + [action]\n",
    "                for ii in range(len(labels)):\n",
    "                    results[labels[ii]].append(to_write[ii])\n",
    "                writer.writerow(to_write)\n",
    "                    \n",
    "                print(\"\\rEpisode = {:4d}, sim.v[2] = {:7.3f}, total_reward = {:7.3f}, action = {}, z={:3.3f}\".format(\n",
    "                    i_episode, task.sim.v[2], agent.total_reward, action, task.sim.pose[2]), end=\"\")  # [debug]\n",
    "                \n",
    "                if (i_episode % plot_every_n_episode == 0):\n",
    "                    xs.append(i_episode)\n",
    "                    ys1.append(agent.total_reward)\n",
    "                    ys2.append(task.sim.pose[2])\n",
    "                    plt_dynamic(xs, ys1, ax, ys2, ax2)\n",
    "                break\n",
    "        sys.stdout.flush()\n",
    "        plt_dynamic(xs, ys1, ax, ys2, ax2)"
   ]
  },
  {
   "cell_type": "code",
   "execution_count": 32,
   "metadata": {},
   "outputs": [
    {
     "data": {
      "image/png": "[encoded data removed]",
      "text/plain": [
       "<matplotlib.figure.Figure at 0x283e8e27390>"
      ]
     },
     "metadata": {},
     "output_type": "display_data"
    }
   ],
   "source": [
    "import matplotlib.pyplot as plt\n",
    "%matplotlib inline\n",
    "\n",
    "plt.plot(results['episode'], results['total_reward'], label='total_reward')\n",
    "plt.legend()\n",
    "_ = plt.ylim()"
   ]
  },
  {
   "cell_type": "code",
   "execution_count": 33,
   "metadata": {},
   "outputs": [
    {
     "data": {
      "image/png": "[encoded data removed]",
      "text/plain": [
       "<matplotlib.figure.Figure at 0x28385f91f98>"
      ]
     },
     "metadata": {},
     "output_type": "display_data"
    }
   ],
   "source": [
    "import matplotlib.pyplot as plt\n",
    "%matplotlib inline\n",
    "\n",
    "# plt.plot(results['episode'], results['x'], label='x')\n",
    "# plt.plot(results['episode'], results['y'], label='y')\n",
    "plt.plot(results['episode'], results['z'], label='z')\n",
    "plt.legend()\n",
    "_ = plt.ylim()"
   ]
  },
  {
   "cell_type": "code",
   "execution_count": 24,
   "metadata": {},
   "outputs": [
    {
     "data": {
      "image/png": "[encoded data removed]",
      "text/plain": [
       "<matplotlib.figure.Figure at 0x283ec374518>"
      ]
     },
     "metadata": {},
     "output_type": "display_data"
    }
   ],
   "source": [
    "import matplotlib.pyplot as plt\n",
    "%matplotlib inline\n",
    "\n",
    "plt.plot(results['episode'], results['rotor'], label='rotor')\n",
    "plt.legend()\n",
    "_ = plt.ylim()"
   ]
  },
  {
   "cell_type": "markdown",
   "metadata": {},
   "source": [
    "## Plot the Rewards\n",
    "\n",
    "Once you are satisfied with your performance, plot the episode rewards, either from a single run, or averaged over multiple runs. "
   ]
  },
  {
   "cell_type": "code",
   "execution_count": null,
   "metadata": {
    "collapsed": true
   },
   "outputs": [],
   "source": [
    "## TODO: Plot the rewards."
   ]
  },
  {
   "cell_type": "markdown",
   "metadata": {},
   "source": [
    "## Reflections\n",
    "\n",
    "**Question 1**: Describe the task that you specified in `task.py`.  How did you design the reward function?\n",
    "\n",
    "**Answer**:"
   ]
  },
  {
   "cell_type": "markdown",
   "metadata": {},
   "source": [
    "**Question 2**: Discuss your agent briefly, using the following questions as a guide:\n",
    "\n",
    "- What learning algorithm(s) did you try? What worked best for you?\n",
    "- What was your final choice of hyperparameters (such as $\\alpha$, $\\gamma$, $\\epsilon$, etc.)?\n",
    "- What neural network architecture did you use (if any)? Specify layers, sizes, activation functions, etc.\n",
    "\n",
    "**Answer**:"
   ]
  },
  {
   "cell_type": "markdown",
   "metadata": {},
   "source": [
    "**Question 3**: Using the episode rewards plot, discuss how the agent learned over time.\n",
    "\n",
    "- Was it an easy task to learn or hard?\n",
    "- Was there a gradual learning curve, or an aha moment?\n",
    "- How good was the final performance of the agent? (e.g. mean rewards over the last 10 episodes)\n",
    "\n",
    "**Answer**:"
   ]
  },
  {
   "cell_type": "markdown",
   "metadata": {},
   "source": [
    "**Question 4**: Briefly summarize your experience working on this project. You can use the following prompts for ideas.\n",
    "\n",
    "- What was the hardest part of the project? (e.g. getting started, plotting, specifying the task, etc.)\n",
    "- Did you find anything interesting in how the quadcopter or your agent behaved?\n",
    "\n",
    "**Answer**:"
   ]
  }
 ],
 "metadata": {
  "anaconda-cloud": {},
  "kernelspec": {
   "display_name": "quadcop",
   "language": "python",
   "name": "quadcop"
  },
  "language_info": {
   "codemirror_mode": {
    "name": "ipython",
    "version": 3
   },
   "file_extension": ".py",
   "mimetype": "text/x-python",
   "name": "python",
   "nbconvert_exporter": "python",
   "pygments_lexer": "ipython3",
   "version": "3.6.3"
  }
 },
 "nbformat": 4,
 "nbformat_minor": 2
}
